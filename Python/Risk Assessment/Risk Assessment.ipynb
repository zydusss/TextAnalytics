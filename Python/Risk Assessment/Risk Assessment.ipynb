{
 "cells": [
  {
   "cell_type": "markdown",
   "metadata": {},
   "source": [
    "## Risk Assessment | Early Warning | Logistics Use Case"
   ]
  },
  {
   "cell_type": "markdown",
   "metadata": {},
   "source": [
    "### Unarguably text mining can unleash lot of opportunities!\n",
    "\n",
    "Can we retrieve useful information from text to do fair risk assessment ? In this workbook, lets understand how effectively we can interpret unstructured data to highlight the potential worries/risks.\n",
    "\n",
    "#### Objective :\n",
    "\n",
    "#### Domain :\n",
    "\n",
    "#### Techniques\n",
    "Information Retrieval, Machince Learning, Data Mining, Statistics"
   ]
  },
  {
   "cell_type": "markdown",
   "metadata": {},
   "source": [
    "### Process Flow"
   ]
  },
  {
   "cell_type": "markdown",
   "metadata": {},
   "source": [
    "<<<<< Placeholder for Diagram>>>>"
   ]
  },
  {
   "cell_type": "markdown",
   "metadata": {},
   "source": [
    "### Key Assumptions\n",
    "\n",
    "1. Relationship between \n",
    "2. "
   ]
  },
  {
   "cell_type": "markdown",
   "metadata": {},
   "source": [
    "#### Organisational Risk Categories\n",
    "\n",
    "1. Competitive Risk\n",
    "The risk that your competition will gain advantages over you that prevent you from reaching your goals. For example, competitors that have a fundamentally cheaper cost base or a better product.\n",
    "\n",
    "2. Economic Risk\n",
    "The possibility that conditions in the economy will increase your costs or reduce your sales.\n",
    "\n",
    "\n",
    " \t\t \n",
    "\n",
    " \n",
    "\n",
    "3. Operational Risk\n",
    "The potential of failures related to the day-to-day operations of an organization such as a customer service process. Some definitions of operational risk claim that it is the result of insufficient or failed processes. However, operational processes that are deemed to be complete and successful also generate risk.\n",
    "\n",
    "4. Legal Risk\n",
    "The chance that new regulations will disrupt your business or that you will incur expenses and losses due to a legal dispute.\n",
    "\n",
    "5. Compliance Risk\n",
    "The chance that you will break laws or regulations. In many cases, a business may fully intend to follow the law but ends up violating regulations due to oversights or errors.\n",
    "\n",
    "6. Strategy Risk\n",
    "The risks associated with a particular strategy. \n",
    "\n",
    "7. Reputational Risk\n",
    "Reputational risk is the chance of losses due to a declining reputation as a result of practices or incidents that are perceived as dishonest, disrespectful or incompetent. The term tends to be used to describe the risk of a serious loss of confidence in an organization rather than a minor decline in reputation.\n",
    "\n",
    "8. Program Risk\n",
    "The risks associated with a particular business program or portfolio of projects.\n",
    "\n",
    "9. Project Risk\n",
    "The risks associated with a project. Risk management of projects is a relatively mature discipline that is enshrined in major project management methodologies. \n",
    "\n",
    "10. Innovation Risk\n",
    "Risk that applies to innovative areas of your business such as product research. Such areas may require adapting your risk management practices to fast paced and relatively high risk activities.\n",
    "\n",
    "11. Country Risk\n",
    "Exposure to the conditions in the countries in which you operate such as political events and the economy.\n",
    "\n",
    "12. Quality Risk\n",
    "The potential that you will fail to meet your quality goals for your products, services and business practices.\n",
    "\n",
    "13. Credit Risk\n",
    "The risk that those who owe you money to fail to pay. For the majority of businesses this is mostly related to accounts receivable risk.\n",
    "\n",
    "14. Exchange Rate Risk\n",
    "The risk that volatility in foreign exchange rates will impact the value of business transactions and assets. Many global businesses have high exposure to a basket of currencies that can add volatility to financial results such as operating margins.\n",
    "\n",
    "15. Interest Rate Risk\n",
    "The risk that changes to interest rates will disrupt your business. For example, interest rates may increase your cost of capital thus impacting your business model and profitability.\n",
    "\n",
    "16. Taxation Risk\n",
    "The potential for new tax laws or interpretations to result in higher than expected taxation. In some cases, new tax laws can completely disrupt the business model of an industry.\n",
    "\n",
    "17. Process Risk\n",
    "The business risks associated with a particular process. Processes tend to be a focus of risk management as reducing risks in core business processes can often yield cost reductions and improved revenue.\n",
    "\n",
    "18. Resource Risk\n",
    "The chance that you will fail to meet business goals due to a lack of resources such as financing or the labor of skilled workers.\n",
    "\n",
    "19. Political Risk\n",
    "The potential for political events and outcomes to impede your business.\n",
    "\n",
    "20. Seasonal Risk\n",
    "2.\n"
   ]
  },
  {
   "cell_type": "markdown",
   "metadata": {},
   "source": [
    "#### Pilot Study\n",
    "\n",
    "Top 10 Indian Aluminium companies in India & China\n",
    "\n",
    "- Hindalco\n",
    "- NALCO\n",
    "- Sacheta Metals\n",
    "- Maan Aluminium\n",
    "- PG Foils\n",
    "- Century Extr\n",
    "- Manaksia Alumin\n",
    "- Hind Aluminium"
   ]
  },
  {
   "cell_type": "code",
   "execution_count": null,
   "metadata": {},
   "outputs": [],
   "source": []
  },
  {
   "cell_type": "code",
   "execution_count": 1,
   "metadata": {},
   "outputs": [],
   "source": [
    "import pandas as pd"
   ]
  },
  {
   "cell_type": "code",
   "execution_count": null,
   "metadata": {},
   "outputs": [],
   "source": []
  },
  {
   "cell_type": "code",
   "execution_count": null,
   "metadata": {},
   "outputs": [],
   "source": []
  },
  {
   "cell_type": "code",
   "execution_count": null,
   "metadata": {},
   "outputs": [],
   "source": []
  },
  {
   "cell_type": "code",
   "execution_count": null,
   "metadata": {},
   "outputs": [],
   "source": []
  },
  {
   "cell_type": "code",
   "execution_count": null,
   "metadata": {},
   "outputs": [],
   "source": []
  },
  {
   "cell_type": "code",
   "execution_count": null,
   "metadata": {},
   "outputs": [],
   "source": []
  },
  {
   "cell_type": "code",
   "execution_count": null,
   "metadata": {},
   "outputs": [],
   "source": []
  }
 ],
 "metadata": {
  "kernelspec": {
   "display_name": "Python 3",
   "language": "python",
   "name": "python3"
  },
  "language_info": {
   "codemirror_mode": {
    "name": "ipython",
    "version": 3
   },
   "file_extension": ".py",
   "mimetype": "text/x-python",
   "name": "python",
   "nbconvert_exporter": "python",
   "pygments_lexer": "ipython3",
   "version": "3.7.0"
  }
 },
 "nbformat": 4,
 "nbformat_minor": 2
}
